{
 "cells": [
  {
   "cell_type": "code",
   "execution_count": 41,
   "metadata": {},
   "outputs": [],
   "source": [
    "import pandas as pd \n",
    "import os\n",
    "import numpy as np\n",
    "import numpy.random as npr\n",
    "import matplotlib.pyplot as plt\n",
    "\n",
    "dir_data = \"../archive/img_align_celeba/\"\n",
    "dir_attr = \"../archive/list_attr_celeba.csv\""
   ]
  },
  {
   "cell_type": "code",
   "execution_count": 42,
   "metadata": {
    "scrolled": true
   },
   "outputs": [],
   "source": [
    "selected_features = ['Big_Lips', 'Big_Nose', 'Blond_Hair', 'Eyeglasses']\n",
    "sf = selected_features.append('image_id')\n",
    "attrs = pd.read_csv(dir_attr)[selected_features]\n",
    "eye_glasses = attrs[(attrs[\"Eyeglasses\"] == 1) & (attrs[\"Big_Lips\"] == -1) \n",
    "                    & (attrs[\"Big_Nose\"] == -1) & (attrs[\"Blond_Hair\"] == -1)]\n",
    "big_lips = attrs[(attrs[\"Eyeglasses\"] == -1) & (attrs[\"Big_Lips\"] == 1) \n",
    "                    & (attrs[\"Big_Nose\"] == -1) & (attrs[\"Blond_Hair\"] == -1)]\n",
    "big_nose = attrs[(attrs[\"Eyeglasses\"] == -1) & (attrs[\"Big_Lips\"] == -1) \n",
    "                    & (attrs[\"Big_Nose\"] == 1) & (attrs[\"Blond_Hair\"] == -1)]\n",
    "blond_hair = attrs[(attrs[\"Eyeglasses\"] == -1) & (attrs[\"Big_Lips\"] == -1) \n",
    "                    & (attrs[\"Big_Nose\"] == -1) & (attrs[\"Blond_Hair\"] == 1)]\n",
    "\n",
    "data = [eye_glasses, big_lips, big_nose, blond_hair]"
   ]
  },
  {
   "cell_type": "code",
   "execution_count": 46,
   "metadata": {},
   "outputs": [
    {
     "data": {
      "text/plain": [
       "array(['183473.jpg', '022490.jpg', '080440.jpg', '197437.jpg',\n",
       "       '144311.jpg', '065865.jpg', '133005.jpg', '200131.jpg',\n",
       "       '155924.jpg', '022689.jpg'], dtype=object)"
      ]
     },
     "execution_count": 46,
     "metadata": {},
     "output_type": "execute_result"
    }
   ],
   "source": [
    "g = eye_glasses[\"image_id\"].to_numpy()\n",
    "rand = npr.randint(0, 6048, 10)\n",
    "\n",
    "g[rand]"
   ]
  },
  {
   "cell_type": "code",
   "execution_count": 51,
   "metadata": {},
   "outputs": [
    {
     "data": {
      "text/plain": [
       "array([['137763.jpg', '115627.jpg', '148609.jpg', ..., '089567.jpg',\n",
       "        '143141.jpg', '062876.jpg'],\n",
       "       ['026567.jpg', '085494.jpg', '138632.jpg', ..., '128152.jpg',\n",
       "        '120356.jpg', '105912.jpg'],\n",
       "       ['096642.jpg', '188548.jpg', '181610.jpg', ..., '157478.jpg',\n",
       "        '006320.jpg', '046413.jpg'],\n",
       "       ['053214.jpg', '164791.jpg', '173089.jpg', ..., '148352.jpg',\n",
       "        '079240.jpg', '087475.jpg']], dtype=object)"
      ]
     },
     "execution_count": 51,
     "metadata": {},
     "output_type": "execute_result"
    }
   ],
   "source": [
    "sample_size = 1000\n",
    "image_names = []\n",
    "for d in data:\n",
    "    arr = d[\"image_id\"].to_numpy()\n",
    "    rand = npr.randint(0, d[\"image_id\"].size, sample_size)\n",
    "    image_names.append(arr[rand])\n",
    "image_names = np.asarray(image_names)\n",
    "\n",
    "# generate 1000 samples from each category\n",
    "image_names"
   ]
  },
  {
   "cell_type": "code",
   "execution_count": null,
   "metadata": {},
   "outputs": [],
   "source": [
    "# TODO: sample from file and convert to pixel coordinates"
   ]
  }
 ],
 "metadata": {
  "kernelspec": {
   "display_name": "Python 3",
   "language": "python",
   "name": "python3"
  },
  "language_info": {
   "codemirror_mode": {
    "name": "ipython",
    "version": 3
   },
   "file_extension": ".py",
   "mimetype": "text/x-python",
   "name": "python",
   "nbconvert_exporter": "python",
   "pygments_lexer": "ipython3",
   "version": "3.7.7"
  }
 },
 "nbformat": 4,
 "nbformat_minor": 2
}
